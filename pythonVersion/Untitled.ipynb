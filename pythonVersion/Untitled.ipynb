{
 "cells": [
  {
   "cell_type": "code",
   "execution_count": 1,
   "id": "30b6bd4b-2008-4079-a841-f3d693f49ec5",
   "metadata": {},
   "outputs": [],
   "source": [
    "import random\n",
    "# import dlib,\n",
    "import cv2, os\n",
    "import pandas as pd\n",
    "import numpy as np\n",
    "\n",
    "img_size = 224\n",
    "dirname = 'CAT_00'\n",
    "base_path = './source/%s' % dirname\n",
    "file_list = sorted(os.listdir(base_path))\n",
    "random.shuffle(file_list)\n",
    "\n",
    "dataset = {\n",
    "  'imgs': [],\n",
    "  'lmks': [],\n",
    "  'bbs': []\n",
    "}\n"
   ]
  },
  {
   "cell_type": "code",
   "execution_count": 2,
   "id": "96bbdf3e-7896-4790-bf68-00b16234396c",
   "metadata": {},
   "outputs": [],
   "source": [
    "\n",
    "def resize_img(im):\n",
    "  old_size = im.shape[:2] # old_size is in (height, width) format\n",
    "  ratio = float(img_size) / max(old_size)\n",
    "  new_size = tuple([int(x*ratio) for x in old_size])\n",
    "  # new_size should be in (width, height) format\n",
    "  im = cv2.resize(im, (new_size[1], new_size[0]))\n",
    "  delta_w = img_size - new_size[1]\n",
    "  delta_h = img_size - new_size[0]\n",
    "  top, bottom = delta_h // 2, delta_h - (delta_h // 2)\n",
    "  left, right = delta_w // 2, delta_w - (delta_w // 2)\n",
    "  new_im = cv2.copyMakeBorder(im, top, bottom, left, right, cv2.BORDER_CONSTANT,\n",
    "      value=[0, 0, 0])\n",
    "  return new_im, ratio, top, left\n",
    "\n"
   ]
  },
  {
   "cell_type": "code",
   "execution_count": null,
   "id": "9071e1f1-155f-4d3b-985e-7e0be309768d",
   "metadata": {},
   "outputs": [],
   "source": [
    "for f in file_list:\n",
    "  if '.cat' not in f:\n",
    "    continue\n",
    "\n",
    "  # read landmarks\n",
    "  pd_frame = pd.read_csv(os.path.join(base_path, f), sep=' ', header=None)\n",
    "  landmarks = (pd_frame.as_matrix()[0][1:-1]).reshape((-1, 2))\n",
    "\n",
    "  # load image\n",
    "  img_filename, ext = os.path.splitext(f)\n",
    "\n",
    "  img = cv2.imread(os.path.join(base_path, img_filename))\n",
    "\n",
    "  # resize image and relocate landmarks\n",
    "  img, ratio, top, left = resize_img(img)\n",
    "  landmarks = ((landmarks * ratio) + np.array([left, top])).astype(np.int)\n",
    "  bb = np.array([np.min(landmarks, axis=0), np.max(landmarks, axis=0)])\n",
    "\n",
    "  dataset['imgs'].append(img)\n",
    "  dataset['lmks'].append(landmarks.flatten())\n",
    "  dataset['bbs'].append(bb.flatten())\n",
    "\n",
    "  # for l in landmarks:\n",
    "  #   cv2.circle(img, center=tuple(l), radius=1, color=(255, 255, 255), thickness=2)\n",
    "\n",
    "  # cv2.imshow('img', img)\n",
    "  # if cv2.waitKey(0) == ord('q'):\n",
    "  #   break\n",
    "  break\n",
    "\n",
    "np.save('dataset/%s.npy' % dirname, np.array(dataset))"
   ]
  }
 ],
 "metadata": {
  "kernelspec": {
   "display_name": "Python 3 (ipykernel)",
   "language": "python",
   "name": "python3"
  },
  "language_info": {
   "codemirror_mode": {
    "name": "ipython",
    "version": 3
   },
   "file_extension": ".py",
   "mimetype": "text/x-python",
   "name": "python",
   "nbconvert_exporter": "python",
   "pygments_lexer": "ipython3",
   "version": "3.8.18"
  }
 },
 "nbformat": 4,
 "nbformat_minor": 5
}
